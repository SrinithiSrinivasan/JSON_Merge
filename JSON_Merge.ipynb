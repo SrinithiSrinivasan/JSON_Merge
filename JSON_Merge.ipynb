{
  "nbformat": 4,
  "nbformat_minor": 0,
  "metadata": {
    "colab": {
      "name": "JSON_Merge.ipynb",
      "provenance": [],
      "include_colab_link": true
    },
    "kernelspec": {
      "name": "python3",
      "display_name": "Python 3"
    }
  },
  "cells": [
    {
      "cell_type": "markdown",
      "metadata": {
        "id": "view-in-github",
        "colab_type": "text"
      },
      "source": [
        "<a href=\"https://colab.research.google.com/github/SrinithiSrinivasan/JSON_Merge/blob/master/JSON_Merge.ipynb\" target=\"_parent\"><img src=\"https://colab.research.google.com/assets/colab-badge.svg\" alt=\"Open In Colab\"/></a>"
      ]
    },
    {
      "cell_type": "code",
      "metadata": {
        "id": "648TVBjbX0YV",
        "colab_type": "code",
        "colab": {
          "base_uri": "https://localhost:8080/",
          "height": 34
        },
        "outputId": "07bf5e55-e28f-446d-e109-128f86ef41d2"
      },
      "source": [
        "import time\n",
        "import json\n",
        "import os\n",
        "import re\n",
        "MAX_SIZE = 1000\n",
        "def merge_json(path,input_filename,output_filename,MAX_SIZE):\n",
        "  #accessing contents in path\n",
        "  for files in os.listdir(path):\n",
        "    #regex to access file with input_filename as prefix\n",
        "    if(re.match(input_filename+\"\\d+.json\",files)):\n",
        "      file = path+\"/\"+files\n",
        "      f = open(file, \"r\")\n",
        "      r = f.read()\n",
        "      #loading contents of json file into dictionary\n",
        "      d = (json.loads(r))\n",
        "      #merging contents\n",
        "      for x,y in d.items():\n",
        "        d[x]+=list(d[x])\n",
        "        #copying contents to merge.json\n",
        "      merge_name = output_filename+\".json\"\n",
        "      with open(merge_name,'w') as fp:\n",
        "        json.dump(d,fp)\n",
        "        #ensuring file size\n",
        "      if(os.path.getsize(merge_name)>MAX_SIZE):\n",
        "        os.remove(merge_name)\n",
        "start_time = time.time()\n",
        "r = merge_json(\"JSON\",\"data\",\"merge\",MAX_SIZE)\n",
        "#measuring time taken\n",
        "time_taken = time.time()-start_time\n",
        "print(time_taken)"
      ],
      "execution_count": 24,
      "outputs": [
        {
          "output_type": "stream",
          "text": [
            "0.007043600082397461\n"
          ],
          "name": "stdout"
        }
      ]
    }
  ]
}